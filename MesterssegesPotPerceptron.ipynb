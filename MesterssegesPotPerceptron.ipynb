{
  "nbformat": 4,
  "nbformat_minor": 0,
  "metadata": {
    "colab": {
      "name": "MesterssegesPot.ipynb",
      "provenance": []
    },
    "kernelspec": {
      "name": "python3",
      "display_name": "Python 3"
    }
  },
  "cells": [
    {
      "cell_type": "code",
      "metadata": {
        "id": "_-Uywf3mVFjU",
        "colab_type": "code",
        "colab": {}
      },
      "source": [
        "from matplotlib import pyplot\n",
        "import numpy as np\n",
        "import time\n",
        "\n",
        "def hardlim(yi):\n",
        "  if yi>=0:\n",
        "    return 1\n",
        "  else:\n",
        "    return 0\n",
        "\n",
        "def eert(e):\n",
        "  if e==0:\n",
        "    return w\n",
        "  if e==1:\n",
        "    w=w+x\n",
        "    return w\n",
        "  if e==-1:\n",
        "    w=w-x\n",
        "    return w\n",
        "\n",
        "def PerceptronLearning(x, d):\n",
        "    N, n = x.shape\n",
        "    E = 1\n",
        "    lr = 0.01\n",
        "    w = np.random.randn(n, 1) \n",
        "    pyplot.ion()\n",
        "    figure = pyplot.figure() \n",
        "    pyplot.xlim((-3, 3))\n",
        "    pyplot.ylim((-3, 3))\n",
        "    pyplot.ylabel('x2')\n",
        "    pyplot.xlabel('x1')\n",
        "    pyplot.scatter(x[:, 1], x[:, 2])\n",
        "    figure.suptitle('AND Tanitasa')\n",
        "    t = np.linspace(-5, 5, 30)\n",
        "\n",
        "    while E != 0:\n",
        "        E = 0\n",
        "\n",
        "        for i in range(N):\n",
        "            yi= hardlim(np.dot(x[i], w))\n",
        "           \n",
        "            ei = d[i] - yi\n",
        "            w = w + lr * ei * x[i].reshape(n, 1)\n",
        "            E = E + ei * ei\n",
        "\n",
        "        a = [0, -w[0] / w[2]]\n",
        "        c = [-w[0] / w[1], 0]\n",
        "        m = (a[1] - a[0]) / (c[1] - c[0])\n",
        "\n",
        "        line, = pyplot.plot(t, t * m + a[1], 'r')\n",
        "        line.set_ydata(t * m + a[1])\n",
        "        line.draw()\n",
        "        line.remove()\n",
        "      \n",
        "  \n",
        "     \n",
        "\n",
        "\n",
        "\n"
      ],
      "execution_count": 0,
      "outputs": []
    },
    {
      "cell_type": "code",
      "metadata": {
        "id": "PUJOj_KbV079",
        "colab_type": "code",
        "outputId": "7be5d247-ee3f-4ab9-b096-3475b7fdb150",
        "colab": {
          "base_uri": "https://localhost:8080/",
          "height": 607
        }
      },
      "source": [
        "x = np.array([[0, 0, 0], [0, 1, 0], [1, 0, 0], [1, 1, 1]])\n",
        "\n",
        "d = [0, 0, 0, 1]\n",
        "\n",
        "PerceptronLearning(x, d)"
      ],
      "execution_count": 73,
      "outputs": [
        {
          "output_type": "error",
          "ename": "TypeError",
          "evalue": "ignored",
          "traceback": [
            "\u001b[0;31m---------------------------------------------------------------------------\u001b[0m",
            "\u001b[0;31mTypeError\u001b[0m                                 Traceback (most recent call last)",
            "\u001b[0;32m<ipython-input-73-8449e1d7b9fd>\u001b[0m in \u001b[0;36m<module>\u001b[0;34m()\u001b[0m\n\u001b[1;32m      3\u001b[0m \u001b[0md\u001b[0m \u001b[0;34m=\u001b[0m \u001b[0;34m[\u001b[0m\u001b[0;36m0\u001b[0m\u001b[0;34m,\u001b[0m \u001b[0;36m0\u001b[0m\u001b[0;34m,\u001b[0m \u001b[0;36m0\u001b[0m\u001b[0;34m,\u001b[0m \u001b[0;36m1\u001b[0m\u001b[0;34m]\u001b[0m\u001b[0;34m\u001b[0m\u001b[0;34m\u001b[0m\u001b[0m\n\u001b[1;32m      4\u001b[0m \u001b[0;34m\u001b[0m\u001b[0m\n\u001b[0;32m----> 5\u001b[0;31m \u001b[0mPerceptronLearning\u001b[0m\u001b[0;34m(\u001b[0m\u001b[0mx\u001b[0m\u001b[0;34m,\u001b[0m \u001b[0md\u001b[0m\u001b[0;34m)\u001b[0m\u001b[0;34m\u001b[0m\u001b[0;34m\u001b[0m\u001b[0m\n\u001b[0m",
            "\u001b[0;32m<ipython-input-72-24748241e5f8>\u001b[0m in \u001b[0;36mPerceptronLearning\u001b[0;34m(x, d)\u001b[0m\n\u001b[1;32m     50\u001b[0m         \u001b[0mline\u001b[0m\u001b[0;34m,\u001b[0m \u001b[0;34m=\u001b[0m \u001b[0mpyplot\u001b[0m\u001b[0;34m.\u001b[0m\u001b[0mplot\u001b[0m\u001b[0;34m(\u001b[0m\u001b[0mt\u001b[0m\u001b[0;34m,\u001b[0m \u001b[0mt\u001b[0m \u001b[0;34m*\u001b[0m \u001b[0mm\u001b[0m \u001b[0;34m+\u001b[0m \u001b[0ma\u001b[0m\u001b[0;34m[\u001b[0m\u001b[0;36m1\u001b[0m\u001b[0;34m]\u001b[0m\u001b[0;34m,\u001b[0m \u001b[0;34m'r'\u001b[0m\u001b[0;34m)\u001b[0m\u001b[0;34m\u001b[0m\u001b[0;34m\u001b[0m\u001b[0m\n\u001b[1;32m     51\u001b[0m         \u001b[0mline\u001b[0m\u001b[0;34m.\u001b[0m\u001b[0mset_ydata\u001b[0m\u001b[0;34m(\u001b[0m\u001b[0mt\u001b[0m \u001b[0;34m*\u001b[0m \u001b[0mm\u001b[0m \u001b[0;34m+\u001b[0m \u001b[0ma\u001b[0m\u001b[0;34m[\u001b[0m\u001b[0;36m1\u001b[0m\u001b[0;34m]\u001b[0m\u001b[0;34m)\u001b[0m\u001b[0;34m\u001b[0m\u001b[0;34m\u001b[0m\u001b[0m\n\u001b[0;32m---> 52\u001b[0;31m         \u001b[0mline\u001b[0m\u001b[0;34m.\u001b[0m\u001b[0mdraw\u001b[0m\u001b[0;34m(\u001b[0m\u001b[0;34m)\u001b[0m\u001b[0;34m\u001b[0m\u001b[0;34m\u001b[0m\u001b[0m\n\u001b[0m\u001b[1;32m     53\u001b[0m         \u001b[0mline\u001b[0m\u001b[0;34m.\u001b[0m\u001b[0mremove\u001b[0m\u001b[0;34m(\u001b[0m\u001b[0;34m)\u001b[0m\u001b[0;34m\u001b[0m\u001b[0;34m\u001b[0m\u001b[0m\n\u001b[1;32m     54\u001b[0m \u001b[0;34m\u001b[0m\u001b[0m\n",
            "\u001b[0;31mTypeError\u001b[0m: draw_wrapper() missing 1 required positional argument: 'renderer'"
          ]
        },
        {
          "output_type": "display_data",
          "data": {
            "image/png": "[encoded data removed]",
            "text/plain": [
              "<Figure size 432x288 with 1 Axes>"
            ]
          },
          "metadata": {
            "tags": [],
            "needs_background": "light"
          }
        }
      ]
    },
    {
      "cell_type": "code",
      "metadata": {
        "id": "U79PXYK1eP10",
        "colab_type": "code",
        "colab": {}
      },
      "source": [
        "from matplotlib import pyplot\n",
        "import numpy as np\n",
        "import time\n",
        "\n",
        "def hardlim(yi):\n",
        "  if yi>=0:\n",
        "    return 1\n",
        "  else:\n",
        "    return 0\n",
        "\n",
        "def eert(e):\n",
        "  if e==0:\n",
        "    return w\n",
        "  if e==1:\n",
        "    w=w+x\n",
        "    return w\n",
        "  if e==-1:\n",
        "    w=w-x\n",
        "    return w\n",
        "\n",
        "def ellenorizz(val1,val2):\n",
        "  if(val1==0):\n",
        "    print(\"Felismerve: H Betu\")\n",
        "  if(val2==0):\n",
        "    print(\"Felismerve: I Betu\")\n",
        "  else:\n",
        "    print(\"Nem ismerte fel a program\")\n",
        "\n",
        "\n",
        "def PerceptronLearningLetters(x, d):\n",
        "    N, n = x.shape\n",
        "    lr = 0.01\n",
        "    w = np.random.randn(n, 1)\n",
        "    print(w)\n",
        "    w2 = np.random.randn(n,1)\n",
        "    print(w2)\n",
        "    E = 1\n",
        "    \n",
        "\n",
        "    while E != 0:\n",
        "        E = 0\n",
        "\n",
        "        for i in range(N):\n",
        "            yi= hardlim(np.dot(x[i], w))\n",
        "            yi2=hardlim(np.dot(x[i],w2))\n",
        "            ei = d[i] - yi\n",
        "            ei2 = d[i] -yi2\n",
        "            w = w + lr * ei * x[i].reshape(n, 1)\n",
        "            w2 = w2 + lr * ei2 *x[i].reshape(n,1)\n",
        "            E = E + ei * ei\n",
        "            E = E +ei2 * ei2\n",
        "    ellenorizz(yi,yi2)\n",
        "      \n"
      ],
      "execution_count": 0,
      "outputs": []
    },
    {
      "cell_type": "code",
      "metadata": {
        "id": "LuICxdCNd51a",
        "colab_type": "code",
        "outputId": "2edf6a73-7f5e-455a-ed74-26544cc5c543",
        "colab": {
          "base_uri": "https://localhost:8080/",
          "height": 391
        }
      },
      "source": [
        "x = np.array([[1,1,0,1,1,1,1,1,0,1],[1,1,0,0,1,0,0,1,0,0]])\n",
        "\n",
        "np.array([[1,0],[0,1]])\n",
        "\n",
        "PerceptronLearningLetters(x, d)"
      ],
      "execution_count": 0,
      "outputs": [
        {
          "output_type": "stream",
          "text": [
            "[[-0.45014211]\n",
            " [-0.26374266]\n",
            " [-0.08988733]\n",
            " [-0.16978059]\n",
            " [ 0.82504376]\n",
            " [-1.39140525]\n",
            " [ 1.6130608 ]\n",
            " [ 0.33714226]\n",
            " [-0.49409137]\n",
            " [ 0.60664345]]\n",
            "[[ 1.33466009]\n",
            " [ 0.82451393]\n",
            " [-1.60729831]\n",
            " [-0.38628725]\n",
            " [ 0.51155159]\n",
            " [-0.92667593]\n",
            " [ 0.06246349]\n",
            " [-1.05209001]\n",
            " [ 0.19471665]\n",
            " [ 1.77206341]]\n",
            "Felismerve: H Betu\n",
            "Felismerve: I Betu\n"
          ],
          "name": "stdout"
        }
      ]
    }
  ]
}